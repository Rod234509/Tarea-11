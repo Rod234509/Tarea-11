{
 "cells": [
  {
   "cell_type": "markdown",
   "metadata": {},
   "source": [
    "# Tarea 1: Semana 1\n",
    "\n",
    "<img style=\"float: right; margin: 0px 0px 15px 15px;\" src=\"https://www.python.org/static/community_logos/python-logo.png\" width=\"200px\" height=\"200px\" />\n",
    "\n",
    "Cada clase que veamos tendrá una tarea asignada, la cual contendrá problemas varios que se pueden resolver con lo visto en clase, de manera que puedas practicar lo que acabas de aprender.\n",
    "\n",
    "En esta ocasión, dados los problemas que tuvimos, la primer tarea tendrá conceptos de las dos primeras clases.\n",
    "\n",
    "Para resolver la tarea, por favor cambiar el nombre del archivo a \"Tarea1_ApellidoNombre.ipynb\", sin acentos ni letras ñ (ejemplo: en mi caso, el archivo se llamaría \"Tarea1_JimenezEsteban.ipynb\"). Luego de haber cambiado el nombre, resolver cada uno de los puntos en los espacios provistos.\n",
    "\n",
    "Referencia:\n",
    "- https://www.kaggle.com/learn/python\n",
    "___"
   ]
  },
  {
   "cell_type": "markdown",
   "metadata": {},
   "source": [
    "## 1. \n",
    "Complete el código"
   ]
  },
  {
   "cell_type": "code",
   "execution_count": 11,
   "metadata": {},
   "outputs": [
    {
     "name": "stdout",
     "output_type": "stream",
     "text": [
      "1.5\n",
      "7.0685775\n"
     ]
    }
   ],
   "source": [
    "pi = 3.14159 # aproximadamente\n",
    "diametro = 3\n",
    "\n",
    "# Crear una variable llamada \"radio\" (sin las comillas), igual a la mitad del diámetro\n",
    "radio=diametro/2\n",
    "# Imprimir el radio\n",
    "print(radio)\n",
    "# Crear una variable llamada \"area\" (sin las comillas), usando la formula para el radio del circulo: pi por el radio al cuadrado\n",
    "area=pi*radio**2\n",
    "# Imprimir el area\n",
    "print(area)"
   ]
  },
  {
   "cell_type": "markdown",
   "metadata": {},
   "source": [
    "## 2. \n",
    "Añada código para intercambiar los valores de las variables `a` y `b`, de manera que `a` tome el valor actual de `b` y viceversa.\n",
    "\n",
    "Mucho cuidado, no se vale escribir directamente los valores. Es decir\n",
    "\n",
    "`>>> a = [3, 2, 1]`\n",
    "\n",
    "`>>> b = [1, 2, 3]`\n",
    "\n",
    "no es una solución válida."
   ]
  },
  {
   "cell_type": "code",
   "execution_count": 12,
   "metadata": {},
   "outputs": [
    {
     "name": "stdout",
     "output_type": "stream",
     "text": [
      "[3, 2, 1] [1, 2, 3]\n"
     ]
    }
   ],
   "source": [
    "########### Código inicial. No tocar esta parte ######################\n",
    "# El tipo de variables a continuación son listas. Estudiaremos este\n",
    "# tipo de variables la próxima clase. Por ahora, basta con saber que\n",
    "# son otro tipo de variables de Python, como los int, o float.\n",
    "a = [1, 2, 3]\n",
    "b = [3, 2, 1]\n",
    "######################################################################\n",
    "\n",
    "# Tu código va acá.\n",
    "a, b =b, a\n",
    "print(a,b)"
   ]
  },
  {
   "cell_type": "markdown",
   "metadata": {},
   "source": [
    "## 3. \n",
    "\n",
    "### a) \n",
    "Añadir paréntesis a la siguiente expresión de modo que el resultado sea 1"
   ]
  },
  {
   "cell_type": "code",
   "execution_count": 13,
   "metadata": {
    "scrolled": true
   },
   "outputs": [
    {
     "data": {
      "text/plain": [
       "1"
      ]
     },
     "execution_count": 13,
     "metadata": {},
     "output_type": "execute_result"
    }
   ],
   "source": [
    "(5 - 3) // 2"
   ]
  },
  {
   "cell_type": "markdown",
   "metadata": {},
   "source": [
    "### b) \n",
    "Añadir paréntesis a la siguiente expresión de modo que el resultado sea 0"
   ]
  },
  {
   "cell_type": "code",
   "execution_count": 14,
   "metadata": {
    "scrolled": true
   },
   "outputs": [
    {
     "data": {
      "text/plain": [
       "0"
      ]
     },
     "execution_count": 14,
     "metadata": {},
     "output_type": "execute_result"
    }
   ],
   "source": [
    "8 - (3 * 2) - (1 + 1)"
   ]
  },
  {
   "cell_type": "markdown",
   "metadata": {},
   "source": [
    "## 4. \n",
    "\n",
    "Juan, María y Alberto acordaron juntar todos los dulces que obtuvieran en Halloween y dividirlo en partes iguales para todos. Para que no haya ningún problema y su amistad se conserve, los dulces que sobren despues de dividir en 3 partes iguales serán tirados. Por ejemplo, si entre todos juntan 91 dulces, tomarán 30 cada uno y tirarán 1.\n",
    "\n",
    "Escribe una expresión aritmética para calcular cuántos dulces deben ser tirados dados los dulces que recojan cada uno."
   ]
  },
  {
   "cell_type": "code",
   "execution_count": 15,
   "metadata": {},
   "outputs": [
    {
     "name": "stdout",
     "output_type": "stream",
     "text": [
      "1\n"
     ]
    }
   ],
   "source": [
    "# Variables que representan el número de dulces juntados por Juan, María y Alberto\n",
    "dulces_juan = 121\n",
    "dulces_maria = 77\n",
    "dulces_alberto = 109\n",
    "\n",
    "# Escriba en el lado derecho una expresión aritmética de los dulces que deben ser tirados\n",
    "dulces_sobrantes = (dulces_juan+dulces_maria+dulces_alberto)%3\n",
    "print(dulces_sobrantes)"
   ]
  },
  {
   "cell_type": "markdown",
   "metadata": {},
   "source": [
    "## 5. \n",
    "Escriba el código para la siguiente función de acuerdo a la descripción en la documentación.\n",
    "\n",
    "**Asegúrate de probar tu función**"
   ]
  },
  {
   "cell_type": "code",
   "execution_count": 89,
   "metadata": {},
   "outputs": [
    {
     "name": "stdout",
     "output_type": "stream",
     "text": [
      "3.14\n"
     ]
    }
   ],
   "source": [
    "def redondear_a_dos_decimales(num):\n",
    "    print(round(num,2))\n",
    "    \"\"\"\n",
    "    Devuelve el número dado redondeado a dos cifras decimales. \n",
    "    \n",
    "    >>> redondear_a_dos_decimales(3.14159)\n",
    "    3.14\n",
    "    \"\"\"\n",
    "    # Reemplaza el código con tu solución\n",
    "    # (\"pass\" es una palabra clave que no hace nada. La usamos acá\n",
    "    # para que haga espacio, porque una vez que empezamos un bloque\n",
    "    # de código Python requiere que se escriba por lo menos una línea.)\n",
    "redondear_a_dos_decimales(3.14159)"
   ]
  },
  {
   "cell_type": "markdown",
   "metadata": {},
   "source": [
    "## 6. \n",
    "Aplicando la función `help()` sobre la función `round()`, dice que el parámetro de entrada `ndigits` puede ser negativo. Elija bien el valor del parámetro `ndigits` para que la siguiente celda imprima el número 2300."
   ]
  },
  {
   "cell_type": "code",
   "execution_count": 17,
   "metadata": {},
   "outputs": [
    {
     "name": "stdout",
     "output_type": "stream",
     "text": [
      "2300.0\n"
     ]
    }
   ],
   "source": [
    "print(round(2345.32, -2))"
   ]
  },
  {
   "cell_type": "markdown",
   "metadata": {},
   "source": [
    "## 7. \n",
    "\n",
    "En el ejercicio 4, presentamos tres amigos que compartían dulces. Como resultado, ellos tenían un total de dulces que debían repartir en partes iguales entre ellos. Los dulces restantes debían ser tirados. Por ejemplo, si entre todos juntaban 91 dulces, tomarían 30 cada uno y tiraían 1.\n",
    "\n",
    "Allí, escribiste un código para calcular cuántos dulces debían tirar, suponiendo que cada uno había juntado un número particular.\n",
    "\n",
    "Abajo presentamos una simple función que calcula el número de dulces a tirar para cualquier cantidad de dulces totales. Modificarla de manera que reciba opcionalmente un segundo argumento que represente el número de amigos entre los cuales se van a repartir los dulces. Si no se recibe un segundo argumento, por defecto se deben asumir 3 amigos, como antes.\n",
    "\n",
    "**Asegúrate de probar tu función**"
   ]
  },
  {
   "cell_type": "code",
   "execution_count": 216,
   "metadata": {},
   "outputs": [
    {
     "name": "stdout",
     "output_type": "stream",
     "text": [
      "0\n",
      "1\n"
     ]
    }
   ],
   "source": [
    "def dulces_sobrantes(dulces_totales,numero_de_amigos=3):\n",
    "    \"\"\"\n",
    "    Devuelve el número de dulces sobrantes que deben ser tirados luego\n",
    "    de distribuir el número de dulces_totales en partes iguales entre\n",
    "    los tres amigos.\n",
    "    \n",
    "    >>> dulces_sobrantes(91)\n",
    "    1\n",
    "    \"\"\"\n",
    "    return dulces_totales % numero_de_amigos\n",
    "print(dulces_sobrantes(91,7))\n",
    "print(dulces_sobrantes(91))"
   ]
  },
  {
   "cell_type": "markdown",
   "metadata": {},
   "source": [
    "## 8. \n",
    "\n",
    "Puede no ser divertido, pero leer y entender los mensajes de error que nos brinda Python es muy, MUY importante.\n",
    "\n",
    "Cada celda abajo contiene codigos con errores.\n",
    "\n",
    "Para cada celda:\n",
    "1. Leer el código y pensar qué crees que pasa cuando corra.\n",
    "2. Correr la celda y ver qué pasa.\n",
    "3. Arregla el código, de modo que no arroje ningún error."
   ]
  },
  {
   "cell_type": "code",
   "execution_count": 92,
   "metadata": {},
   "outputs": [
    {
     "name": "stdout",
     "output_type": "stream",
     "text": [
      "10.0\n"
     ]
    }
   ],
   "source": [
    "redondear_a_dos_decimales(9.9999)"
   ]
  },
  {
   "cell_type": "code",
   "execution_count": 20,
   "metadata": {},
   "outputs": [
    {
     "data": {
      "text/plain": [
       "5"
      ]
     },
     "execution_count": 20,
     "metadata": {},
     "output_type": "execute_result"
    }
   ],
   "source": [
    "x = -10\n",
    "y = 5\n",
    "# Cuál de las dos variables tiene el valor absoluto más pequeño?\n",
    "abs_mas_pequeño = min(abs(x), abs(y))\n",
    "abs_mas_pequeño"
   ]
  },
  {
   "cell_type": "code",
   "execution_count": 34,
   "metadata": {},
   "outputs": [
    {
     "name": "stdout",
     "output_type": "stream",
     "text": [
      "5\n"
     ]
    }
   ],
   "source": [
    "def f(x):\n",
    " y = abs(x)\n",
    " return y\n",
    "\n",
    "print(f(5))"
   ]
  },
  {
   "cell_type": "markdown",
   "metadata": {},
   "source": [
    "## 9. \n",
    "\n",
    "Muchos lenguajes de programación tienen la función [sign](https://en.wikipedia.org/wiki/Sign_function) disponible como parte de la librería estándar. Python no la tiene, ¡pero podemos definir nuestra propia función!\n",
    "\n",
    "En la celda siguiente, defina una función llamada `sign`, que tome un argumento numérico y devuelva -1 si el número es negativo, 1 si es positivo y 0 si es 0.\n",
    "\n",
    "**Asegúrate de probar tu función**"
   ]
  },
  {
   "cell_type": "code",
   "execution_count": 42,
   "metadata": {},
   "outputs": [
    {
     "name": "stdout",
     "output_type": "stream",
     "text": [
      "-1\n"
     ]
    }
   ],
   "source": [
    "# Definir una función llamada sign con las especificaciones dadas\n",
    "def sign(num):\n",
    "    if num <0:\n",
    "        print(-1)\n",
    "    elif num >0:\n",
    "        print(1)\n",
    "    elif num ==0:\n",
    "        print(0)\n",
    "    else:\n",
    "        print(\"No es número\")\n",
    "\n",
    "sign(-1256)"
   ]
  },
  {
   "cell_type": "markdown",
   "metadata": {},
   "source": [
    "## 10. \n",
    "\n",
    "La función `es_negativo()` en la celda de abajo es correcta (devuelve `True` si el número dado es negativo y `False` de otro modo).\n",
    "\n",
    "Sin embargo, se usan muchas líneas de código para una tarea tan simple. Podemos reducir el número de líneas de código en esta función en un 75`%`, con exactamente el mismo resultado.\n",
    "\n",
    "Veamos si puedes obtener una función equivalente que use solo una línea de código. Escribir tu solución en la función `es_negativo_conciso()`.\n",
    "\n",
    "**Asegúrate de probar tu función**"
   ]
  },
  {
   "cell_type": "code",
   "execution_count": 363,
   "metadata": {},
   "outputs": [
    {
     "data": {
      "text/plain": [
       "False"
      ]
     },
     "execution_count": 363,
     "metadata": {},
     "output_type": "execute_result"
    }
   ],
   "source": [
    "def es_negativo(num):\n",
    "    if num < 0:\n",
    "        return True\n",
    "    else:\n",
    "        return False\n",
    "    pass\n",
    "\n",
    "def es_negativo_conciso(num):\n",
    "    return (num<0)\n",
    "        \n",
    "es_negativo_conciso(4)     \n",
    "    "
   ]
  },
  {
   "cell_type": "markdown",
   "metadata": {},
   "source": [
    "## 11.\n",
    "\n",
    "Las variables booleanas `ketchup`, `mostaza` y `cebolla` representan si un cliente quiere un ingrediente en particular en su hot dog. Queremos implementar varias funciones booleanas que correspondan a ciertas preguntas de si o no acerca del pedido del criente.\n",
    "\n",
    "Por ejemplo:"
   ]
  },
  {
   "cell_type": "code",
   "execution_count": 352,
   "metadata": {},
   "outputs": [],
   "source": [
    "def sin_cebolla(ketchup, mostaza, cebolla):\n",
    "    \"\"\"\n",
    "    Devuelve True si el cliente no quiere cebolla, y False de lo contrario.\n",
    "    \"\"\"\n",
    "       return not cebolla"
   ]
  },
  {
   "cell_type": "code",
   "execution_count": 350,
   "metadata": {},
   "outputs": [
    {
     "name": "stdout",
     "output_type": "stream",
     "text": [
      "False\n",
      "True\n"
     ]
    }
   ],
   "source": [
    "print(sin_cebolla(True, False, True), sin_cebolla(False, True, False), sep='\\n')"
   ]
  },
  {
   "cell_type": "markdown",
   "metadata": {},
   "source": [
    "Para las siguientes funciones escriba el código para que la función haga lo que se dice en su documentación.\n",
    "\n",
    "**Asegúrate de probar tus funciones**"
   ]
  },
  {
   "cell_type": "code",
   "execution_count": 517,
   "metadata": {},
   "outputs": [
    {
     "data": {
      "text/plain": [
       "(True, False)"
      ]
     },
     "execution_count": 517,
     "metadata": {},
     "output_type": "execute_result"
    }
   ],
   "source": [
    "def todos_los_ingredientes(ketchup, mostaza, cebolla):\n",
    "    \"\"\"\n",
    "    Devuelve True si el cliente quiere todos los ingredientes, y False de lo contrario\n",
    "    \"\"\"\n",
    "    if ketchup and mostaza and cebolla:\n",
    "        return True\n",
    "    else:\n",
    "        return False\n",
    "todos_los_ingredientes (True,True,True), todos_los_ingredientes (False,True,True)"
   ]
  },
  {
   "cell_type": "code",
   "execution_count": 575,
   "metadata": {},
   "outputs": [
    {
     "data": {
      "text/plain": [
       "(True, False)"
      ]
     },
     "execution_count": 575,
     "metadata": {},
     "output_type": "execute_result"
    }
   ],
   "source": [
    "def sin_ingrediente(ketchup, mostaza, cebolla):\n",
    "    \"\"\"\n",
    "    Devuelve True si el cliente no quiere ningún ingrediente, y False de lo contrario.\n",
    "    \"\"\"\n",
    "    if ketchup and mostaza and cebolla:\n",
    "        return False\n",
    "    else:\n",
    "        return True\n",
    "sin_ingrediente(False,False,False),sin_ingrediente(True,True,True)"
   ]
  },
  {
   "cell_type": "code",
   "execution_count": 796,
   "metadata": {},
   "outputs": [],
   "source": [
    "def solo_un_aderezo(ketchup, mostaza, cebolla):\n",
    "    \"\"\"\n",
    "    Devuelve True si el cliente quiere ketchup o mostaza, pero no ambos.\n",
    "    \"\"\"\n",
    "    if ketchup or mostaza:\n",
    "        return True\n",
    "    else:\n",
    "        return False"
   ]
  },
  {
   "cell_type": "code",
   "execution_count": 798,
   "metadata": {},
   "outputs": [
    {
     "data": {
      "text/plain": [
       "True"
      ]
     },
     "execution_count": 798,
     "metadata": {},
     "output_type": "execute_result"
    }
   ],
   "source": [
    "solo_un_aderezo(True,True,True)"
   ]
  },
  {
   "cell_type": "code",
   "execution_count": null,
   "metadata": {},
   "outputs": [],
   "source": []
  },
  {
   "cell_type": "code",
   "execution_count": null,
   "metadata": {},
   "outputs": [],
   "source": []
  },
  {
   "cell_type": "code",
   "execution_count": 561,
   "metadata": {},
   "outputs": [
    {
     "data": {
      "text/plain": [
       "False"
      ]
     },
     "execution_count": 561,
     "metadata": {},
     "output_type": "execute_result"
    }
   ],
   "source": []
  },
  {
   "cell_type": "markdown",
   "metadata": {},
   "source": [
    "## 12.\n",
    "Hemos visto que llamar la función `bool()` sobre un número entero devuelve `False` si el número es igual a 0 y `True` en otro caso. Qué pasa si llamamos `int()` sobre un booleano? Inténtalo en la siguiente celda."
   ]
  },
  {
   "cell_type": "code",
   "execution_count": 846,
   "metadata": {},
   "outputs": [
    {
     "data": {
      "text/plain": [
       "(1, 0, 0)"
      ]
     },
     "execution_count": 846,
     "metadata": {},
     "output_type": "execute_result"
    }
   ],
   "source": [
    "int(True), int(False), int(False)"
   ]
  },
  {
   "cell_type": "markdown",
   "metadata": {},
   "source": [
    "¿Puedes usar esto para escribir una función que devuelva `True` si el cliente quiere uno y sólo un ingrediente y `False` de lo contrario?\n",
    "\n",
    "**Asegúrate de probar tu función**"
   ]
  },
  {
   "cell_type": "code",
   "execution_count": 842,
   "metadata": {},
   "outputs": [],
   "source": [
    "def exactamente_un_ingrediente(ketchup, mostaza, cebolla):\n",
    "ketchup=\n",
    "    \"\"\"\n",
    "    Devuelve True si el ciente quiere exactamente un ingrediente, False de lo contrario.\n",
    "    \"\"\"\n",
    "    if sum(int(True), int(False) ,int(False))==True:\n",
    "        return True\n",
    "    else:\n",
    "        return False"
   ]
  },
  {
   "cell_type": "code",
   "execution_count": 845,
   "metadata": {},
   "outputs": [
    {
     "ename": "TypeError",
     "evalue": "sum expected at most 2 arguments, got 3",
     "output_type": "error",
     "traceback": [
      "\u001b[1;31m---------------------------------------------------------------------------\u001b[0m",
      "\u001b[1;31mTypeError\u001b[0m                                 Traceback (most recent call last)",
      "\u001b[1;32m<ipython-input-845-2048b24c9168>\u001b[0m in \u001b[0;36m<module>\u001b[1;34m\u001b[0m\n\u001b[1;32m----> 1\u001b[1;33m \u001b[0msum\u001b[0m \u001b[1;33m(\u001b[0m\u001b[0mint\u001b[0m\u001b[1;33m(\u001b[0m\u001b[1;32mTrue\u001b[0m\u001b[1;33m)\u001b[0m\u001b[1;33m,\u001b[0m\u001b[0mint\u001b[0m\u001b[1;33m(\u001b[0m\u001b[1;32mFalse\u001b[0m\u001b[1;33m)\u001b[0m\u001b[1;33m,\u001b[0m\u001b[0mint\u001b[0m\u001b[1;33m(\u001b[0m\u001b[1;32mFalse\u001b[0m\u001b[1;33m)\u001b[0m\u001b[1;33m)\u001b[0m\u001b[1;33m\u001b[0m\u001b[1;33m\u001b[0m\u001b[0m\n\u001b[0m",
      "\u001b[1;31mTypeError\u001b[0m: sum expected at most 2 arguments, got 3"
     ]
    }
   ],
   "source": []
  },
  {
   "cell_type": "markdown",
   "metadata": {},
   "source": [
    "## 13.\n",
    "\n",
    "Escriba el cuerpo de la siguiente función de acuerdo a su documentación."
   ]
  },
  {
   "cell_type": "code",
   "execution_count": 247,
   "metadata": {},
   "outputs": [],
   "source": [
    "def segundo_elemento(L):\n",
    "    \"\"\"\n",
    "    Devuelve el segundo elemento de la lista dada. Si la lista no tiene \n",
    "    segundo elemento, devuelve None.\n",
    "    \n",
    "    >>> segundo_elemento([10, 4, 9, 10])\n",
    "    4\n",
    "    >>> segundo_elemento([5])\n",
    "    \n",
    "    \"\"\"\n",
    "    return L[1] if len(L)>=2 else None"
   ]
  },
  {
   "cell_type": "code",
   "execution_count": 248,
   "metadata": {},
   "outputs": [],
   "source": [
    "def elemento_n(L, n):\n",
    "    return L[n-1] if len(L)>=n else None"
   ]
  },
  {
   "cell_type": "markdown",
   "metadata": {},
   "source": [
    "Prueba tu función:"
   ]
  },
  {
   "cell_type": "code",
   "execution_count": 336,
   "metadata": {},
   "outputs": [
    {
     "data": {
      "text/plain": [
       "9"
      ]
     },
     "execution_count": 336,
     "metadata": {},
     "output_type": "execute_result"
    }
   ],
   "source": [
    "elemento_n([10,4,9,10],3)"
   ]
  },
  {
   "cell_type": "markdown",
   "metadata": {},
   "source": [
    "## 14.\n",
    "\n",
    "Implemente el cuerpo de la siguiente función de acuerdo a su domuentación **utilizando únicamente listas y sus métodos: NO SE ACEPTA EL USO DE CICLOS!**"
   ]
  },
  {
   "cell_type": "code",
   "execution_count": 451,
   "metadata": {},
   "outputs": [],
   "source": [
    "def cuantos_negativos(lista):\n",
    "    lista.append(0)\n",
    "    lista.sort()\n",
    "    print(lista.index(0))\n",
    "    \"\"\"\n",
    "    Devuelve la cantidad de números negativos en la lista dada.\n",
    "    \n",
    "    >>> cuantos_negativos([5, -1, -2, 0, 3])\n",
    "    2\n",
    "    \"\"\"\n",
    "    \n",
    "    "
   ]
  },
  {
   "cell_type": "markdown",
   "metadata": {},
   "source": [
    "**Ayuda: `help(list.sort)`**\n",
    "\n",
    "Prueba tu función:\n",
    "\n",
    "help(list.sort)"
   ]
  },
  {
   "cell_type": "code",
   "execution_count": 454,
   "metadata": {},
   "outputs": [
    {
     "name": "stdout",
     "output_type": "stream",
     "text": [
      "5\n"
     ]
    }
   ],
   "source": [
    "cuantos_negativos([4,5,6,7,-4,-5,-6,-4,-5])"
   ]
  },
  {
   "cell_type": "markdown",
   "metadata": {},
   "source": [
    "## 15.\n",
    "\n",
    "La siguiente función no funciona correctamente de acuerdo a lo descrito en su documentación. A esto en programación se le llama un bug. Al correr la función no se marca ningún error, pero la función no hace lo que debería hacer.\n",
    "\n",
    "Identifica el bug de la siguiente función y arréglalo:"
   ]
  },
  {
   "cell_type": "code",
   "execution_count": 389,
   "metadata": {},
   "outputs": [],
   "source": [
    "def es_chida(L):\n",
    "    \"\"\"\n",
    "    Devuelve True si la lista dad es chida. Una lista chida es aquella que \n",
    "    contiene al menos un número divisible por 7.\n",
    "    \n",
    "    >>> es_chida([1, 14, 3, 8])\n",
    "    True\n",
    "    \"\"\"\n",
    "    for num in L:\n",
    "        if num % 7 == 0:\n",
    "            return True\n",
    "    return False"
   ]
  },
  {
   "cell_type": "markdown",
   "metadata": {},
   "source": [
    "Muestra que tu función corregida funciona correctamente:"
   ]
  },
  {
   "cell_type": "code",
   "execution_count": 457,
   "metadata": {},
   "outputs": [
    {
     "data": {
      "text/plain": [
       "True"
      ]
     },
     "execution_count": 457,
     "metadata": {},
     "output_type": "execute_result"
    }
   ],
   "source": [
    "es_chida([1, 5, 28, 8])"
   ]
  },
  {
   "cell_type": "markdown",
   "metadata": {},
   "source": [
    "## 16.\n",
    "\n",
    "Algunos dicen que \"los científicos de datos usan el 80% de su tiempo limpiando datos, y el 20% restante quejándose acerca de la limpieza de datos\". \n",
    "\n",
    "Veamos si puedes escribir una función que nos ayude a limpiar datos correspondientes a códigos postales.\n",
    "\n",
    "Dado un string, la función debe devolver True si dicho string representa un código postal válido, de lo contrario devuelve False. Para nuestros propósitos, un código postal es válido si es un string que contiene exactamente **5 dígitos**.\n",
    "\n",
    "Ayuda: **help(str.isdigit)**"
   ]
  },
  {
   "cell_type": "raw",
   "metadata": {},
   "source": [
    "def cp_valido(cp):\n",
    "    if cp==str.isdigit(\"\"):\n",
    "        len(cp)==5:\n",
    "        print(\"cp_valido (cp) True\")\n",
    "    elif len(cp)=!5:\n",
    "        print(\"False\")\n",
    "    else:\n",
    "        print(\"is\")\n",
    "    \"\"\"\n",
    "    Devuelve True si el string dado es un código postal válido:\n",
    "    string de 5 dígitos.\n",
    "    \n",
    "    >>> cp_valido('45017')\n",
    "    True\n",
    "    >>> cp_valido('450015')\n",
    "    False\n",
    "    >>> cp_valido('45a15')\n",
    "    False\n",
    "    \"\"\"\n",
    "    \n"
   ]
  },
  {
   "cell_type": "code",
   "execution_count": 757,
   "metadata": {},
   "outputs": [],
   "source": [
    "def cp_valido(cp):\n",
    "    if len(cp)==5 and cp.isdigit():\n",
    "        print(True)\n",
    "    else:\n",
    "        print(False)"
   ]
  },
  {
   "cell_type": "code",
   "execution_count": 763,
   "metadata": {},
   "outputs": [
    {
     "name": "stdout",
     "output_type": "stream",
     "text": [
      "True\n"
     ]
    }
   ],
   "source": [
    "cp_valido(\"45017\")"
   ]
  },
  {
   "cell_type": "code",
   "execution_count": 764,
   "metadata": {},
   "outputs": [
    {
     "name": "stdout",
     "output_type": "stream",
     "text": [
      "False\n"
     ]
    }
   ],
   "source": [
    "cp_valido(\"450015\")"
   ]
  },
  {
   "cell_type": "code",
   "execution_count": 765,
   "metadata": {},
   "outputs": [
    {
     "name": "stdout",
     "output_type": "stream",
     "text": [
      "False\n"
     ]
    }
   ],
   "source": [
    "cp_valido(\"45a15\")"
   ]
  },
  {
   "cell_type": "markdown",
   "metadata": {},
   "source": [
    "Prueba que tu función trabaje correctamente:"
   ]
  },
  {
   "cell_type": "markdown",
   "metadata": {},
   "source": [
    "<script>\n",
    "  $(document).ready(function(){\n",
    "    $('div.prompt').hide();\n",
    "    $('div.back-to-top').hide();\n",
    "    $('nav#menubar').hide();\n",
    "    $('.breadcrumb').hide();\n",
    "    $('.hidden-print').hide();\n",
    "  });\n",
    "</script>\n",
    "\n",
    "<footer id=\"attribution\" style=\"float:right; color:#808080; background:#fff;\">\n",
    "Created with Jupyter by Esteban Jiménez Rodríguez.\n",
    "</footer>"
   ]
  }
 ],
 "metadata": {
  "kernelspec": {
   "display_name": "Python 3",
   "language": "python",
   "name": "python3"
  },
  "language_info": {
   "codemirror_mode": {
    "name": "ipython",
    "version": 3
   },
   "file_extension": ".py",
   "mimetype": "text/x-python",
   "name": "python",
   "nbconvert_exporter": "python",
   "pygments_lexer": "ipython3",
   "version": "3.7.6"
  }
 },
 "nbformat": 4,
 "nbformat_minor": 2
}
